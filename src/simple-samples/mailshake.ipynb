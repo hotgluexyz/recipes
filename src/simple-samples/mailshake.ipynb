{
 "cells": [
  {
   "cell_type": "markdown",
   "metadata": {},
   "source": [
    "# Mailshake transformation script #\n",
    "This transformation script reads all opens and clicks from your Mailshake campaigns and outputs a simplified CSV for each in the `etl-output` folder. This is intended as a starting point to manipulate the data."
   ]
  },
  {
   "cell_type": "code",
   "execution_count": 1,
   "metadata": {},
   "outputs": [],
   "source": [
    "import gluestick as gs\n",
    "import pandas as pd\n",
    "import os"
   ]
  },
  {
   "cell_type": "markdown",
   "metadata": {},
   "source": [
    "Let's establish the standard hotglue input/output directories"
   ]
  },
  {
   "cell_type": "code",
   "execution_count": 2,
   "metadata": {},
   "outputs": [],
   "source": [
    "# standard directory for hotglue\n",
    "ROOT_DIR = os.environ.get(\"ROOT_DIR\", \".\")\n",
    "INPUT_DIR = f\"{ROOT_DIR}/sync-output\"\n",
    "OUTPUT_DIR = f\"{ROOT_DIR}/etl-output\""
   ]
  },
  {
   "cell_type": "markdown",
   "metadata": {},
   "source": [
    "Let's start by reading the data. \n",
    "\n",
    "We will use the [gluestick](https://pypi.org/project/gluestick/) package to read the raw data in the input folder into a dictionary of pandas dataframes using the `read_csv_folder` function."
   ]
  },
  {
   "cell_type": "code",
   "execution_count": 53,
   "metadata": {},
   "outputs": [],
   "source": [
    "# Read input data\n",
    "input_data = gs.read_csv_folder(INPUT_DIR)"
   ]
  },
  {
   "cell_type": "markdown",
   "metadata": {},
   "source": [
    "Let's parse the JSON objects (campaign + recipient)"
   ]
  },
  {
   "cell_type": "code",
   "execution_count": 70,
   "metadata": {},
   "outputs": [],
   "source": [
    "clicks = (input_data[\"clicks\"]\n",
    "        .pipe(gs.explode_json_to_rows, \"campaign\", max_level=1)\n",
    "        .pipe(gs.explode_json_to_rows, \"recipient\", max_level=1)\n",
    "        .pipe(lambda x: x.rename(columns={'recipient.id': 'target', 'campaign.title': 'key', 'actionDate': 'date', 'id': 'value'})))\n",
    "\n",
    "opens = (input_data[\"opens\"]\n",
    "        .pipe(gs.explode_json_to_rows, \"campaign\", max_level=1)\n",
    "        .pipe(gs.explode_json_to_rows, \"recipient\", max_level=1)\n",
    "        .pipe(lambda x: x.rename(columns={'recipient.id': 'target', 'campaign.title': 'key', 'actionDate': 'date', 'id': 'value'})))"
   ]
  },
  {
   "cell_type": "markdown",
   "metadata": {},
   "source": [
    "Let's get rid of any duplicate data (same recipient opening the email twice)"
   ]
  },
  {
   "cell_type": "code",
   "execution_count": 72,
   "metadata": {},
   "outputs": [],
   "source": [
    "clicks = clicks.astype({'date': 'datetime64'}).drop_duplicates(subset=['key', 'target'])[['value', 'date', 'key']]\n",
    "opens = opens.astype({'date': 'datetime64'}).drop_duplicates(subset=['key', 'target'])[['value', 'date', 'key']]"
   ]
  },
  {
   "cell_type": "markdown",
   "metadata": {},
   "source": [
    "We want to monitor month over month change in campaign interaction"
   ]
  },
  {
   "cell_type": "code",
   "execution_count": 73,
   "metadata": {},
   "outputs": [],
   "source": [
    "clicks['date'] = clicks['date'].dt.to_period('M')\n",
    "opens['date'] = opens['date'].dt.to_period('M')"
   ]
  },
  {
   "cell_type": "code",
   "execution_count": 74,
   "metadata": {},
   "outputs": [],
   "source": [
    "clicks = clicks.groupby(by=['key', 'date']).count()\n",
    "opens = opens.groupby(by=['key', 'date']).count()"
   ]
  },
  {
   "cell_type": "code",
   "execution_count": 76,
   "metadata": {},
   "outputs": [],
   "source": [
    "clicks.to_csv(f\"{OUTPUT_DIR}/Clicks.csv\")\n",
    "opens.to_csv(f\"{OUTPUT_DIR}/Opens.csv\")"
   ]
  },
  {
   "cell_type": "code",
   "execution_count": null,
   "metadata": {},
   "outputs": [],
   "source": []
  }
 ],
 "metadata": {
  "kernelspec": {
   "display_name": "Python 3",
   "language": "python",
   "name": "python3"
  },
  "language_info": {
   "codemirror_mode": {
    "name": "ipython",
    "version": 3
   },
   "file_extension": ".py",
   "mimetype": "text/x-python",
   "name": "python",
   "nbconvert_exporter": "python",
   "pygments_lexer": "ipython3",
   "version": "3.7.9"
  }
 },
 "nbformat": 4,
 "nbformat_minor": 4
}
