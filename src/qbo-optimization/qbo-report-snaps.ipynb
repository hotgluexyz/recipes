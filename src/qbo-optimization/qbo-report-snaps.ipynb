{
 "cells": [
  {
   "cell_type": "code",
   "execution_count": null,
   "id": "708db38e-6b40-4e45-ad71-3c171cc22177",
   "metadata": {},
   "outputs": [],
   "source": [
    "import pandas as pd\n",
    "import gluestick as gs\n",
    "import os\n",
    "\n",
    "from datetime import date\n",
    "from dateutil.relativedelta import relativedelta"
   ]
  },
  {
   "cell_type": "code",
   "execution_count": null,
   "id": "5d4064be-44f8-436f-83ed-0baf7e662fe6",
   "metadata": {},
   "outputs": [],
   "source": [
    "# Get the sync_type (full_sync or incremental_sync)\n",
    "sync_type = os.environ.get(\"SYNC_TYPE\", \"incremental_sync\")"
   ]
  },
  {
   "cell_type": "code",
   "execution_count": null,
   "id": "c3adb04e-0eef-4891-b5cd-b9398d45c659",
   "metadata": {},
   "outputs": [],
   "source": [
    "INPUT_DIR = \"./sync-output\"\n",
    "SNAPSHOT_DIR = \"./snapshots\"\n",
    "OUTPUT_DIR = \"./etl-output\""
   ]
  },
  {
   "cell_type": "code",
   "execution_count": null,
   "id": "6b003c87-0be5-435d-be71-cf2b0e1b6ca0",
   "metadata": {},
   "outputs": [],
   "source": [
    "# By default hotglue gets the last 2 periods + the current period\n",
    "LOOKBACK_PERIOD = 2"
   ]
  },
  {
   "cell_type": "code",
   "execution_count": null,
   "id": "997c83ec-d2ec-4fec-aca9-35cd3e4a171c",
   "metadata": {},
   "outputs": [],
   "source": [
    "input = gs.Reader()"
   ]
  },
  {
   "cell_type": "code",
   "execution_count": null,
   "id": "ba2c9d88-cbfe-491f-942b-c5bc9375cf8a",
   "metadata": {},
   "outputs": [],
   "source": [
    "# Get the report as a dataframe\n",
    "stream = \"GeneralLedgerCashReport\"\n",
    "gl_report = input.get(stream)"
   ]
  },
  {
   "cell_type": "code",
   "execution_count": null,
   "id": "5b44f4db-5078-43cc-8051-38672627831f",
   "metadata": {},
   "outputs": [],
   "source": [
    "# Get the snapped report data\n",
    "gl_report_snap = gs.read_snapshots(stream, SNAPSHOT_DIR)"
   ]
  },
  {
   "cell_type": "code",
   "execution_count": null,
   "id": "61c55b4c-4496-44a3-8e94-c3db22b3bafd",
   "metadata": {},
   "outputs": [],
   "source": [
    "# If we have a pre-existing snapshot and new incremental data, we'll need to combine them together\n",
    "if gl_report_snap is not None and gl_report is not None and sync_type == \"incremental_sync\":\n",
    "    # Ensure the Date column is a date\n",
    "    gl_report_snap[\"Date\"] = pd.to_datetime(gl_report_snap[\"Date\"]).dt.date\n",
    "    \n",
    "    # Get today's date\n",
    "    today = date.today()\n",
    "\n",
    "    # Get the first day of the month LOOKBACK_PERIOD months ago\n",
    "    first_day_three_months_ago = (today.replace(day=1) - relativedelta(months=LOOKBACK_PERIOD))\n",
    "    \n",
    "    # Drop the last 3 months of data (this is what the incremental sync brought in)\n",
    "    print(f\"Clearing snapped data newer than {first_day_three_months_ago}\")\n",
    "    gl_report_snap = gl_report_snap[gl_report_snap[\"Date\"] < first_day_three_months_ago]\n",
    "    \n",
    "    # Combine with gl_report\n",
    "    print(\"Combining the incremental data with the snapshot data\")\n",
    "    gl_report = pd.concat([gl_report_snap, gl_report])"
   ]
  },
  {
   "cell_type": "code",
   "execution_count": null,
   "id": "df4ec688-df80-436b-8850-41e0552e3677",
   "metadata": {},
   "outputs": [],
   "source": [
    "if gl_report is not None:\n",
    "    # If the Date column is a date, turn it back to str\n",
    "    gl_report['Date'] = gl_report['Date'].astype(str)\n",
    "\n",
    "    # NOTE: We are passing overwrite=True because we are already stitching the snapshot with the incremental data above\n",
    "    gs.snapshot_records(gl_report, stream, SNAPSHOT_DIR, overwrite=True, use_csv=True)"
   ]
  },
  {
   "cell_type": "code",
   "execution_count": null,
   "id": "309cccec-9e71-45e2-b645-e95d0175ddb5",
   "metadata": {},
   "outputs": [],
   "source": [
    "# Write the final output (a full GL Report)\n",
    "gs.to_export(gl_report, stream, OUTPUT_DIR, export_format=\"csv\")"
   ]
  },
  {
   "cell_type": "code",
   "execution_count": null,
   "id": "2d23f56d-f9e3-4d11-9c1c-9b14b8c0566d",
   "metadata": {},
   "outputs": [],
   "source": []
  }
 ],
 "metadata": {
  "kernelspec": {
   "display_name": "Python 3 (ipykernel)",
   "language": "python",
   "name": "python3"
  },
  "language_info": {
   "codemirror_mode": {
    "name": "ipython",
    "version": 3
   },
   "file_extension": ".py",
   "mimetype": "text/x-python",
   "name": "python",
   "nbconvert_exporter": "python",
   "pygments_lexer": "ipython3",
   "version": "3.10.4"
  }
 },
 "nbformat": 4,
 "nbformat_minor": 5
}
